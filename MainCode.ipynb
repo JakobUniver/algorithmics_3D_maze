{
 "cells": [
  {
   "cell_type": "code",
   "execution_count": 1,
   "id": "c8c42fe5",
   "metadata": {},
   "outputs": [
    {
     "name": "stdout",
     "output_type": "stream",
     "text": [
      "[[0 0 0 0 0 0 0 0 0 0 0]\n",
      " [0 0 0 0 0 0 0 0 0 0 0]\n",
      " [0 0 0 0 0 0 0 0 0 0 0]\n",
      " [0 0 0 0 0 0 0 0 0 0 0]\n",
      " [0 0 0 0 0 0 0 0 0 0 0]\n",
      " [0 0 0 0 0 1 0 0 0 0 0]\n",
      " [0 0 0 0 0 0 0 0 0 0 0]\n",
      " [0 0 0 0 0 0 0 0 0 0 0]\n",
      " [0 0 0 0 0 0 0 0 0 0 0]\n",
      " [0 0 0 0 0 0 0 0 0 0 0]\n",
      " [0 0 0 0 0 0 0 0 0 0 0]]\n",
      "[[0 0 0 0 0 0 0 0 0 0 0]\n",
      " [0 0 0 0 0 0 0 0 0 0 0]\n",
      " [0 0 0 0 0 0 0 0 0 0 0]\n",
      " [0 0 0 0 0 0 0 0 0 0 0]\n",
      " [0 0 0 0 0 0 0 0 0 0 0]\n",
      " [0 0 0 0 0 2 0 0 0 0 0]\n",
      " [0 0 0 0 0 0 0 0 0 0 0]\n",
      " [0 0 0 0 0 0 0 0 0 0 0]\n",
      " [0 0 0 0 0 0 0 0 0 0 0]\n",
      " [0 0 0 0 0 0 0 0 0 0 0]\n",
      " [0 0 0 0 0 0 0 0 0 0 0]]\n"
     ]
    }
   ],
   "source": [
    "import numpy as np\n",
    "\n",
    "matrix = np.zeros((11, 11, 11), int)\n",
    "\n",
    "# 0 - Empty cube\n",
    "# 1 - Start cube\n",
    "# 2 - End cube\n",
    "# 3 - Obstacle\n",
    "\n",
    "matrix[0][5][5] = 1\n",
    "matrix[10][5][5] = 2\n",
    "matrix[5][4:6] = 3\n",
    "\n",
    "print(matrix[0])\n",
    "print(matrix[10])"
   ]
  },
  {
   "cell_type": "code",
   "execution_count": 2,
   "id": "ef2b5e57",
   "metadata": {},
   "outputs": [
    {
     "data": {
      "image/png": "[encoded data removed]",
      "text/plain": [
       "<Figure size 432x288 with 1 Axes>"
      ]
     },
     "metadata": {},
     "output_type": "display_data"
    }
   ],
   "source": [
    "import matplotlib.pyplot as plt\n",
    "import numpy as np\n",
    "\n",
    "\n",
    "# prepare some coordinates\n",
    "x, y, z = np.indices(matrix.shape)\n",
    "colors = np.empty(list(matrix.shape) + [4], dtype=object)\n",
    "voxelarray = np.full(matrix.shape, False)\n",
    "\n",
    "# draw cuboids in the top left and bottom right corners, and a link between\n",
    "# them\n",
    "for x_ind, slice in enumerate(matrix):\n",
    "    for y_ind, row in enumerate(slice):\n",
    "        for z_ind, cell in enumerate(row):\n",
    "            if cell == 0:\n",
    "                continue\n",
    "            elif cell == 1:\n",
    "                cube = (x == x_ind) & (y == y_ind) & (z == z_ind)\n",
    "                voxelarray = voxelarray | cube\n",
    "                colors[cube] = [0, 1, 1, 0.7]\n",
    "            elif cell == 2:\n",
    "                cube = (x == x_ind) & (y == y_ind) & (z == z_ind)\n",
    "                voxelarray = voxelarray | cube\n",
    "                colors[cube] = [1, 1, 0, 0.7]\n",
    "            elif cell == 3:\n",
    "                cube = (x == x_ind) & (y == y_ind) & (z == z_ind)\n",
    "                voxelarray = voxelarray | cube\n",
    "                colors[cube] = [1, 1, 1, 0.7]\n",
    "\n",
    "# and plot everything\n",
    "ax = plt.figure().add_subplot(projection='3d', yticks=[], xticks=[], zticks=[])\n",
    "ax.voxels(voxelarray, facecolors=colors)\n",
    "\n",
    "throwing_x = [0, 1, 2]\n",
    "throwing_y = [0, 1, 3]\n",
    "throwing_z = [0, 1, 4]\n",
    "ax.plot(throwing_x,throwing_y,throwing_z,color=[1, 0, 1, 0.5])\n",
    "\n",
    "# For different views\n",
    "# ax.view_init(100, 90)\n",
    "\n",
    "plt.show()"
   ]
  },
  {
   "cell_type": "code",
   "execution_count": null,
   "id": "5d858b1d",
   "metadata": {},
   "outputs": [],
   "source": []
  }
 ],
 "metadata": {
  "kernelspec": {
   "display_name": "Python 3 (ipykernel)",
   "language": "python",
   "name": "python3"
  },
  "language_info": {
   "codemirror_mode": {
    "name": "ipython",
    "version": 3
   },
   "file_extension": ".py",
   "mimetype": "text/x-python",
   "name": "python",
   "nbconvert_exporter": "python",
   "pygments_lexer": "ipython3",
   "version": "3.9.12"
  }
 },
 "nbformat": 4,
 "nbformat_minor": 5
}
