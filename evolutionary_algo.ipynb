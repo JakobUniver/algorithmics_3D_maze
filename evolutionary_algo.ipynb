{
  "nbformat": 4,
  "nbformat_minor": 0,
  "metadata": {
    "colab": {
      "provenance": [],
      "authorship_tag": "ABX9TyMsSnzGQq3z92zGc7oHPZnD",
      "include_colab_link": true
    },
    "kernelspec": {
      "name": "python3",
      "display_name": "Python 3"
    },
    "language_info": {
      "name": "python"
    }
  },
  "cells": [
    {
      "cell_type": "markdown",
      "metadata": {
        "id": "view-in-github",
        "colab_type": "text"
      },
      "source": [
        "<a href=\"https://colab.research.google.com/github/JakobUniver/algorithmics_3D_maze/blob/main/evolutionary_algo.ipynb\" target=\"_parent\"><img src=\"https://colab.research.google.com/assets/colab-badge.svg\" alt=\"Open In Colab\"/></a>"
      ]
    },
    {
      "cell_type": "markdown",
      "source": [
        "# Genetic algorithm\n",
        "This algorithm goal is to find the best direction to thow a ball to hit the target."
      ],
      "metadata": {
        "id": "TPZqJ3_XGNrK"
      }
    },
    {
      "cell_type": "code",
      "execution_count": 63,
      "metadata": {
        "id": "R44BsxnOGLPe"
      },
      "outputs": [],
      "source": [
        "# imports\n",
        "import numpy as np\n",
        "import time"
      ]
    },
    {
      "cell_type": "code",
      "source": [
        "np.array([1,2,3]).shape\n",
        "np.zeros((3,1)).shape"
      ],
      "metadata": {
        "colab": {
          "base_uri": "https://localhost:8080/"
        },
        "id": "vuBAGzxkv2t1",
        "outputId": "c1fde844-1be6-47d9-88ad-441ff655273d"
      },
      "execution_count": 87,
      "outputs": [
        {
          "output_type": "execute_result",
          "data": {
            "text/plain": [
              "(3, 1)"
            ]
          },
          "metadata": {},
          "execution_count": 87
        }
      ]
    },
    {
      "cell_type": "code",
      "source": [
        "a = np.array([[[-4,5]],[[12,23]], [[1,1]]])\n",
        "print(a)\n",
        "print(a[:,0])"
      ],
      "metadata": {
        "colab": {
          "base_uri": "https://localhost:8080/"
        },
        "id": "NrGqfdy6ykGx",
        "outputId": "04608819-36d4-41d0-e2f0-0b1cc723c14f"
      },
      "execution_count": 6,
      "outputs": [
        {
          "output_type": "stream",
          "name": "stdout",
          "text": [
            "[[[-4  5]]\n",
            "\n",
            " [[12 23]]\n",
            "\n",
            " [[ 1  1]]]\n",
            "[[-4  5]\n",
            " [12 23]\n",
            " [ 1  1]]\n"
          ]
        }
      ]
    },
    {
      "cell_type": "code",
      "source": [
        "np.concatenate([[1,2],[4,5]])"
      ],
      "metadata": {
        "colab": {
          "base_uri": "https://localhost:8080/"
        },
        "id": "mvYk7A605vL5",
        "outputId": "e602dfbd-8963-4c5a-db4a-bfb285e689f6"
      },
      "execution_count": 90,
      "outputs": [
        {
          "output_type": "execute_result",
          "data": {
            "text/plain": [
              "array([1, 2, 4, 5])"
            ]
          },
          "metadata": {},
          "execution_count": 90
        }
      ]
    },
    {
      "cell_type": "code",
      "source": [
        "class Evolution:\n",
        "  xz_range:tuple = 360\n",
        "  yz_range:tuple = 360\n",
        "\n",
        "  def __init__(self,population_size):\n",
        "    self.population_size = population_size\n",
        "    self.population = self.init_population()\n",
        "  \n",
        "  def fitness(self,instance: np.array)->float:\n",
        "    # TODO\n",
        "    return abs(instance.sum())\n",
        "\n",
        "  def init_population(self)->list:\n",
        "    population = np.random.random((self.population_size,2))\n",
        "    # Next we do because we do not want that the range endpoints are included\n",
        "    population[:,0] = population[:,0]*(self.xz_range/2)\n",
        "    population[:,1] = population[:,1]*(self.yz_range/2)\n",
        "    population[:,0] = population[:,0]*np.random.choice([-1,1],self.population_size)\n",
        "    population[:,1] = population[:,1]*np.random.choice([-1,1],self.population_size)\n",
        "    population_valuation = np.array([self.fitness(chromosome) for chromosome in population])\n",
        "    return population_valuation, population\n",
        "\n",
        "  def mutation(self,chromosome:np.array, nr_genes:int=6)->tuple:\n",
        "    # https://en.wikipedia.org/wiki/Mutation_(genetic_algorithm)\n",
        "    xz_dif = np.random.normal(0,self.xz_range/nr_genes)\n",
        "    yz_dif = np.random.normal(0,self.yz_range/nr_genes)\n",
        "\n",
        "    mutant = np.array([chromosome[0]+xz_dif,chromosome[1]+yz_dif])\n",
        "    \n",
        "    if abs(mutant[0])>self.xz_range/2:\n",
        "      mutant[0] = (self.xz_range - abs(mutant[0])) *(1 if mutant[0]<0 else -1)\n",
        "    if abs(mutant[1])>self.yz_range/2:\n",
        "      mutant[1] = (self.xz_range - abs(mutant[1])) *(1 if mutant[1]<0 else -1)\n",
        "      \n",
        "    return self.fitness(mutant),mutant\n",
        "\n",
        "  def crossover(self,parents:np.array)->list:\n",
        "    parent1,parent2 = parents\n",
        "\n",
        "    child1_val,child1 = self.mutation([parent1[0],parent2[1]])\n",
        "    child2_val,child2 = self.mutation([parent2[0],parent1[1]])\n",
        "\n",
        "    return [child1_val,child2_val],[child1,child2]\n",
        "\n",
        "  def generate_pairs(self,parents:tuple,size:int)-> list:\n",
        "    parent_valuations,parent_individuals = parents\n",
        "    valuations = 1/parent_valuations # Make smaller values bigger and bigger values smaller\n",
        "    parents_probabilites = valuations / valuations.sum()\n",
        "    chosen_parents_i = np.random.choice(range(len(parents_probabilites)),size*2,p=parents_probabilites)# ,replace=False\n",
        "    chosen_parents = parent_individuals[chosen_parents_i]\n",
        "    pairs = np.array(list(zip(chosen_parents[::2],chosen_parents[1::2])))\n",
        "    return pairs\n",
        "  \n",
        "  def generate_offspring(self)->tuple:\n",
        "    parents = self.generate_pairs(self.population,self.population_size//4)\n",
        "    children_val= []\n",
        "    children= []\n",
        "    for pair in parents:\n",
        "      children_val_i, children_i=self.crossover(pair)\n",
        "      children_val+=children_val_i\n",
        "      children+=children_i\n",
        "\n",
        "    return children_val,children_i\n",
        "\n",
        "  def choose_new_generation(self, population:tuple)->tuple:\n",
        "    valuations = 1/population[0]# Make smaller values bigger and bigger values smaller\n",
        "    chromo_probabilites = valuations / valuations.sum()\n",
        "    chosen_chromos_i = np.random.choice(range(len(chromo_probabilites)),self.population_size,p=chromo_probabilites,replace=False)\n",
        "    new_population = (population[0][chosen_chromos_i],population[1][chosen_chromos_i])\n",
        "    return new_population\n",
        "\n",
        "    \n",
        "  def step(self)->list:\n",
        "    children = []\n",
        "    \n",
        "    # Generate new offspring\n",
        "    children = self.generate_offspring()\n",
        "    new_population_val = np.concatenate([self.population[0],children[0]])\n",
        "    new_population_ins = np.concatenate([self.population[1],children[1]])\n",
        "    new_population = (new_population_val,new_population_ins)\n",
        "\n",
        "    # Let the natural selection to do its job\n",
        "    self.population = self.choose_new_generation(new_population)\n",
        "\n",
        "    return self.population\n",
        "\n",
        "  def step_until(self,max_iters:int=1000, max_non_increasing_iters:int=100, max_time_s:int=10):\n",
        "    iters = 0\n",
        "    non_increasing_iters = 0\n",
        "    best_val = float('inf')\n",
        "    progress_vals = []\n",
        "    progress_ins = []\n",
        "    start_time = time.perf_counter()\n",
        "\n",
        "    while True:\n",
        "      # Check for reasons to stop evolution\n",
        "      if iters == max_iters:\n",
        "        print('Stopped because maximum iterations achieved.')\n",
        "        break\n",
        "      if non_increasing_iters == max_non_increasing_iters:\n",
        "        print('Stopped because maximum non increasing iterations achieved.')\n",
        "        break\n",
        "      if time.perf_counter() - start_time >= max_time_s:\n",
        "        print('Stopped because maximum time limit achieved.')\n",
        "        break\n",
        "      \n",
        "      # Produce the next generation\n",
        "      generation_i_vals,generation_i_ins = self.step()\n",
        "\n",
        "      # Find the best individual\n",
        "      best_i_idx = generation_i_vals.argmin()\n",
        "      best_i_val = generation_i_vals[best_i_idx]\n",
        "      best_i_in = generation_i_ins[best_i_idx]\n",
        "      progress_vals.append(best_i_val)\n",
        "      progress_ins.append(best_i_in)\n",
        " \n",
        "      # Increase counters\n",
        "      iters +=1\n",
        "      non_increasing_iters +=1\n",
        "\n",
        "      # Check if there is an improvement\n",
        "      if best_i_val < best_val:\n",
        "        best_val=best_i_val\n",
        "        non_increasing_iters = 0\n",
        "    \n",
        "    return np.array(progress_vals),np.array(progress_ins)\n",
        "      \n",
        "obj = Evolution(5)\n",
        "print(f'Population size: {obj.population_size}')\n",
        "print(f'Population:\\n{obj.population}')\n",
        "print()\n",
        "print(obj.mutation([0,0]))\n",
        "print()\n",
        "print(obj.crossover([[-45,45],[0,-30]]))\n",
        "print()\n",
        "print(obj.generate_pairs((\n",
        "    np.array([10,    25,     23,      15,      100]),\n",
        "    np.array([[-4,5],[12,23],[-15,25],[75,-55],[-36,23]])),\n",
        "    3))\n",
        "\n",
        "print()\n",
        "print(obj.generate_offspring())\n",
        "print()\n",
        "obj.step()\n",
        "print()\n",
        "obj.step_until()\n",
        "1"
      ],
      "metadata": {
        "colab": {
          "base_uri": "https://localhost:8080/"
        },
        "id": "JVzvHJlqKfCy",
        "outputId": "afd9ea7d-716f-45c4-8854-a1c8a51c23b1"
      },
      "execution_count": 95,
      "outputs": [
        {
          "output_type": "stream",
          "name": "stdout",
          "text": [
            "Population size: 5\n",
            "Population:\n",
            "(array([134.59481737,  61.13662542, 180.87659318,  59.49886058,\n",
            "        98.78278656]), array([[-120.25651163,  -14.33830574],\n",
            "       [-102.12260374,  163.25922916],\n",
            "       [-123.49293723,  -57.38365595],\n",
            "       [  14.55877693,   44.94008365],\n",
            "       [ -20.69572231,  -78.08706425]]))\n",
            "\n",
            "(117.88795599121556, array([-54.56546076, -63.32249523]))\n",
            "\n",
            "([17.74133265320537, 1.4646927599393678], [array([-31.81647446,  14.07514181]), array([-83.32817384,  84.7928666 ])])\n",
            "\n",
            "[[[-15  25]\n",
            "  [ -4   5]]\n",
            "\n",
            " [[ 75 -55]\n",
            "  [ -4   5]]\n",
            "\n",
            " [[ 75 -55]\n",
            "  [ 75 -55]]]\n",
            "\n",
            "([141.1427792766939, 148.408181304356], [array([ -13.67423307, -127.46854621]), array([-21.02419893, 169.43238024])])\n",
            "\n",
            "\n",
            "Stopped because maximum non increasing iterations achieved.\n"
          ]
        },
        {
          "output_type": "execute_result",
          "data": {
            "text/plain": [
              "1"
            ]
          },
          "metadata": {},
          "execution_count": 95
        }
      ]
    },
    {
      "cell_type": "code",
      "source": [],
      "metadata": {
        "id": "7b9GaF4213BC"
      },
      "execution_count": null,
      "outputs": []
    }
  ]
}