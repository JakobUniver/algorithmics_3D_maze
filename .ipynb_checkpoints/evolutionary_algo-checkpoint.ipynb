{
 "cells": [
  {
   "cell_type": "markdown",
   "metadata": {
    "colab_type": "text",
    "id": "view-in-github"
   },
   "source": [
    "<a href=\"https://colab.research.google.com/github/JakobUniver/algorithmics_3D_maze/blob/main/evolutionary_algo.ipynb\" target=\"_parent\"><img src=\"https://colab.research.google.com/assets/colab-badge.svg\" alt=\"Open In Colab\"/></a>"
   ]
  },
  {
   "cell_type": "markdown",
   "metadata": {
    "id": "TPZqJ3_XGNrK"
   },
   "source": [
    "# Genetic algorithm\n",
    "This algorithm goal is to find the best direction to thow a ball to hit the target."
   ]
  },
  {
   "cell_type": "code",
   "execution_count": 1,
   "metadata": {
    "id": "R44BsxnOGLPe"
   },
   "outputs": [],
   "source": [
    "# imports\n",
    "import numpy as np\n",
    "from copy import deepcopy\n",
    "import time"
   ]
  },
  {
   "cell_type": "code",
   "execution_count": 2,
   "metadata": {
    "colab": {
     "base_uri": "https://localhost:8080/"
    },
    "id": "vuBAGzxkv2t1",
    "outputId": "c1fde844-1be6-47d9-88ad-441ff655273d"
   },
   "outputs": [
    {
     "data": {
      "text/plain": [
       "(3, 1)"
      ]
     },
     "execution_count": 2,
     "metadata": {},
     "output_type": "execute_result"
    }
   ],
   "source": [
    "np.array([1,2,3]).shape\n",
    "np.zeros((3,1)).shape"
   ]
  },
  {
   "cell_type": "code",
   "execution_count": 3,
   "metadata": {
    "colab": {
     "base_uri": "https://localhost:8080/"
    },
    "id": "NrGqfdy6ykGx",
    "outputId": "04608819-36d4-41d0-e2f0-0b1cc723c14f"
   },
   "outputs": [
    {
     "name": "stdout",
     "output_type": "stream",
     "text": [
      "[[[-4  5]]\n",
      "\n",
      " [[12 23]]\n",
      "\n",
      " [[ 1  1]]]\n",
      "[[-4  5]\n",
      " [12 23]\n",
      " [ 1  1]]\n"
     ]
    }
   ],
   "source": [
    "a = np.array([[[-4,5]],[[12,23]], [[1,1]]])\n",
    "print(a)\n",
    "print(a[:,0])"
   ]
  },
  {
   "cell_type": "code",
   "execution_count": 4,
   "metadata": {
    "colab": {
     "base_uri": "https://localhost:8080/"
    },
    "id": "mvYk7A605vL5",
    "outputId": "e602dfbd-8963-4c5a-db4a-bfb285e689f6"
   },
   "outputs": [
    {
     "data": {
      "text/plain": [
       "array([1, 2, 4, 5])"
      ]
     },
     "execution_count": 4,
     "metadata": {},
     "output_type": "execute_result"
    }
   ],
   "source": [
    "np.concatenate([[1,2],[4,5]])"
   ]
  },
  {
   "cell_type": "code",
   "execution_count": 5,
   "metadata": {},
   "outputs": [],
   "source": [
    "# Helper functions\n",
    "\n",
    "# https://stackoverflow.com/a/13849249/71522\n",
    "def unit_vector(vector):\n",
    "    return vector / np.linalg.norm(vector)\n",
    "\n",
    "def angle_between(vec1, vec2):\n",
    "    \"\"\" Returns the angle in radians between unit-vectors 'vec1' and 'vec2' \"\"\"\n",
    "    return np.arccos(np.clip(np.dot(vec1, vec2), -1.0, 1.0))\n",
    "\n",
    "\n",
    "def check_validity(room, index):\n",
    "    for i in range(len(room.shape)):  # x, y, z\n",
    "        if not (0 <= index[i] < room.shape[i]):            \n",
    "            return 0\n",
    "    if room[index[0], index[1], index[2]] == 3:\n",
    "        return 0\n",
    "    return 1\n",
    "\n",
    "#https://math.stackexchange.com/questions/1905533/find-perpendicular-distance-from-point-to-line-in-3d\n",
    "def get_distance(A, B, C):\n",
    "    arg1 = A - B\n",
    "    arg2 = C - B\n",
    "    return np.linalg.norm(np.cross(arg1, arg2))/np.linalg.norm(arg2)"
   ]
  },
  {
   "cell_type": "code",
   "execution_count": 6,
   "metadata": {
    "colab": {
     "base_uri": "https://localhost:8080/"
    },
    "id": "JVzvHJlqKfCy",
    "outputId": "afd9ea7d-716f-45c4-8854-a1c8a51c23b1"
   },
   "outputs": [
    {
     "name": "stderr",
     "output_type": "stream",
     "text": [
      "C:\\Users\\sanma\\AppData\\Local\\Temp\\ipykernel_2556\\1709014371.py:24: RuntimeWarning: invalid value encountered in double_scalars\n",
      "  return np.linalg.norm(np.cross(arg1, arg2))/np.linalg.norm(arg2)\n"
     ]
    },
    {
     "name": "stdout",
     "output_type": "stream",
     "text": [
      "Population size: 5\n",
      "Population:\n",
      "(array([1.8       , 0.62017367, 0.8304548 , 0.        , 0.98130676]), array([[ -11.5210035 , -166.00285798],\n",
      "       [ 107.27731205,  -99.43769271],\n",
      "       [ 105.78859069,  138.7411876 ],\n",
      "       [   6.07376467,  171.65170217],\n",
      "       [ -14.48859383,  118.30520875]]))\n",
      "\n",
      "(0.8164965809277259, array([168.1761405 , -94.69924882]))\n",
      "\n",
      "([0.6546536707079771, 4.932882862316248], [array([-21.66192857, -35.99414087]), array([-24.75926393,  97.89718558])])\n",
      "\n",
      "[[[ 75 -55]\n",
      "  [ 75 -55]]\n",
      "\n",
      " [[ -4   5]\n",
      "  [ -4   5]]\n",
      "\n",
      " [[ -4   5]\n",
      "  [ 75 -55]]]\n",
      "\n"
     ]
    },
    {
     "name": "stderr",
     "output_type": "stream",
     "text": [
      "C:\\Users\\sanma\\AppData\\Local\\Temp\\ipykernel_2556\\3433935610.py:108: RuntimeWarning: divide by zero encountered in divide\n",
      "  valuations = 1/parent_valuations # Make smaller values bigger and bigger values smaller\n",
      "C:\\Users\\sanma\\AppData\\Local\\Temp\\ipykernel_2556\\3433935610.py:109: RuntimeWarning: invalid value encountered in divide\n",
      "  parents_probabilites = valuations / valuations.sum()\n"
     ]
    },
    {
     "ename": "ValueError",
     "evalue": "probabilities contain NaN",
     "output_type": "error",
     "traceback": [
      "\u001b[1;31m---------------------------------------------------------------------------\u001b[0m",
      "\u001b[1;31mValueError\u001b[0m                                Traceback (most recent call last)",
      "Cell \u001b[1;32mIn[6], line 216\u001b[0m\n\u001b[0;32m    209\u001b[0m \u001b[38;5;28mprint\u001b[39m(obj\u001b[38;5;241m.\u001b[39mgenerate_pairs(\n\u001b[0;32m    210\u001b[0m     (np\u001b[38;5;241m.\u001b[39marray([\u001b[38;5;241m10\u001b[39m,    \u001b[38;5;241m25\u001b[39m,     \u001b[38;5;241m23\u001b[39m,      \u001b[38;5;241m15\u001b[39m,      \u001b[38;5;241m100\u001b[39m]), \n\u001b[0;32m    211\u001b[0m      np\u001b[38;5;241m.\u001b[39marray([[\u001b[38;5;241m-\u001b[39m\u001b[38;5;241m4\u001b[39m,\u001b[38;5;241m5\u001b[39m],[\u001b[38;5;241m12\u001b[39m,\u001b[38;5;241m23\u001b[39m],[\u001b[38;5;241m-\u001b[39m\u001b[38;5;241m15\u001b[39m,\u001b[38;5;241m25\u001b[39m],[\u001b[38;5;241m75\u001b[39m,\u001b[38;5;241m-\u001b[39m\u001b[38;5;241m55\u001b[39m],[\u001b[38;5;241m-\u001b[39m\u001b[38;5;241m36\u001b[39m,\u001b[38;5;241m23\u001b[39m]])\n\u001b[0;32m    212\u001b[0m     ), \u001b[38;5;241m3\u001b[39m)\n\u001b[0;32m    213\u001b[0m      )\n\u001b[0;32m    215\u001b[0m \u001b[38;5;28mprint\u001b[39m()\n\u001b[1;32m--> 216\u001b[0m \u001b[38;5;28mprint\u001b[39m(\u001b[43mobj\u001b[49m\u001b[38;5;241;43m.\u001b[39;49m\u001b[43mgenerate_offspring\u001b[49m\u001b[43m(\u001b[49m\u001b[43m)\u001b[49m)\n\u001b[0;32m    217\u001b[0m \u001b[38;5;28mprint\u001b[39m()\n\u001b[0;32m    218\u001b[0m obj\u001b[38;5;241m.\u001b[39mstep()\n",
      "Cell \u001b[1;32mIn[6], line 116\u001b[0m, in \u001b[0;36mEvolution.generate_offspring\u001b[1;34m(self)\u001b[0m\n\u001b[0;32m    115\u001b[0m \u001b[38;5;28;01mdef\u001b[39;00m \u001b[38;5;21mgenerate_offspring\u001b[39m(\u001b[38;5;28mself\u001b[39m)\u001b[38;5;241m-\u001b[39m\u001b[38;5;241m>\u001b[39m\u001b[38;5;28mtuple\u001b[39m:\n\u001b[1;32m--> 116\u001b[0m     parents \u001b[38;5;241m=\u001b[39m \u001b[38;5;28;43mself\u001b[39;49m\u001b[38;5;241;43m.\u001b[39;49m\u001b[43mgenerate_pairs\u001b[49m\u001b[43m(\u001b[49m\u001b[38;5;28;43mself\u001b[39;49m\u001b[38;5;241;43m.\u001b[39;49m\u001b[43mpopulation\u001b[49m\u001b[43m,\u001b[49m\u001b[38;5;28;43mself\u001b[39;49m\u001b[38;5;241;43m.\u001b[39;49m\u001b[43mpopulation_size\u001b[49m\u001b[38;5;241;43m/\u001b[39;49m\u001b[38;5;241;43m/\u001b[39;49m\u001b[38;5;241;43m4\u001b[39;49m\u001b[43m)\u001b[49m\n\u001b[0;32m    117\u001b[0m     children_val\u001b[38;5;241m=\u001b[39m []\n\u001b[0;32m    118\u001b[0m     children\u001b[38;5;241m=\u001b[39m []\n",
      "Cell \u001b[1;32mIn[6], line 110\u001b[0m, in \u001b[0;36mEvolution.generate_pairs\u001b[1;34m(self, parents, size)\u001b[0m\n\u001b[0;32m    108\u001b[0m valuations \u001b[38;5;241m=\u001b[39m \u001b[38;5;241m1\u001b[39m\u001b[38;5;241m/\u001b[39mparent_valuations \u001b[38;5;66;03m# Make smaller values bigger and bigger values smaller\u001b[39;00m\n\u001b[0;32m    109\u001b[0m parents_probabilites \u001b[38;5;241m=\u001b[39m valuations \u001b[38;5;241m/\u001b[39m valuations\u001b[38;5;241m.\u001b[39msum()\n\u001b[1;32m--> 110\u001b[0m chosen_parents_i \u001b[38;5;241m=\u001b[39m \u001b[43mnp\u001b[49m\u001b[38;5;241;43m.\u001b[39;49m\u001b[43mrandom\u001b[49m\u001b[38;5;241;43m.\u001b[39;49m\u001b[43mchoice\u001b[49m\u001b[43m(\u001b[49m\u001b[38;5;28;43mrange\u001b[39;49m\u001b[43m(\u001b[49m\u001b[38;5;28;43mlen\u001b[39;49m\u001b[43m(\u001b[49m\u001b[43mparents_probabilites\u001b[49m\u001b[43m)\u001b[49m\u001b[43m)\u001b[49m\u001b[43m,\u001b[49m\u001b[43msize\u001b[49m\u001b[38;5;241;43m*\u001b[39;49m\u001b[38;5;241;43m2\u001b[39;49m\u001b[43m,\u001b[49m\u001b[43mp\u001b[49m\u001b[38;5;241;43m=\u001b[39;49m\u001b[43mparents_probabilites\u001b[49m\u001b[43m)\u001b[49m\u001b[38;5;66;03m# ,replace=False\u001b[39;00m\n\u001b[0;32m    111\u001b[0m chosen_parents \u001b[38;5;241m=\u001b[39m parent_individuals[chosen_parents_i]\n\u001b[0;32m    112\u001b[0m pairs \u001b[38;5;241m=\u001b[39m np\u001b[38;5;241m.\u001b[39marray(\u001b[38;5;28mlist\u001b[39m(\u001b[38;5;28mzip\u001b[39m(chosen_parents[::\u001b[38;5;241m2\u001b[39m],chosen_parents[\u001b[38;5;241m1\u001b[39m::\u001b[38;5;241m2\u001b[39m])))\n",
      "File \u001b[1;32mmtrand.pyx:935\u001b[0m, in \u001b[0;36mnumpy.random.mtrand.RandomState.choice\u001b[1;34m()\u001b[0m\n",
      "\u001b[1;31mValueError\u001b[0m: probabilities contain NaN"
     ]
    }
   ],
   "source": [
    "class Evolution:\n",
    "    xz_range:tuple = 360\n",
    "    yz_range:tuple = 360\n",
    "    \n",
    "\n",
    "    def __init__(self, population_size, room):\n",
    "        self.population_size = population_size\n",
    "        self.room = room\n",
    "        self.population = self.init_population()\n",
    "  \n",
    "    def fitness(self, direction: np.array, path_output=False)->float:\n",
    "        zx_rad, zy_rad = direction[0]*np.pi/180, direction[1]*np.pi/180\n",
    "        x = np.sin(zx_rad)\n",
    "        y = np.sin(zy_rad)\n",
    "        z1, z2 = np.cos(zx_rad), np.cos(zy_rad)\n",
    "        move_vector = unit_vector([np.around(x, 9), np.around(y, 9), np.around((z1+z2)/2, 9)])\n",
    "        #print(f'Movement vector: {move_vector}')\n",
    "\n",
    "        ball = np.where(self.room == 1)\n",
    "        ball_start = np.array([ball[0][0], ball[1][0], ball[2][0]])\n",
    "        #print(f'Ball starting at {ball_start}')\n",
    "        end = np.where(self.room == 2)\n",
    "        end = np.array([end[0][0], end[1][0], end[2][0]])\n",
    "\n",
    "        directions = [1 if move_vector[0] >= 0 else -1,  # x\n",
    "                      1 if move_vector[1] >= 0 else -1,  # y\n",
    "                      1 if move_vector[2] >= 0 else -1]  # z\n",
    "        curr_start = ball_start\n",
    "        curr_pos = ball_start\n",
    "        curr_len = 0\n",
    "        path = [curr_start]\n",
    "        max_len = 1000\n",
    "        min_dist = np.inf\n",
    "\n",
    "        while curr_len < max_len and min_dist != 0:\n",
    "            #print(f'Iteration {curr_len+1}')\n",
    "\n",
    "            candidates = [[curr_pos[0] + directions[0], curr_pos[1], curr_pos[2]],  # x\n",
    "                          [curr_pos[0], curr_pos[1] + directions[1], curr_pos[2]],  # y\n",
    "                          [curr_pos[0], curr_pos[1], curr_pos[2] + directions[2]]]  # z\n",
    "            #print(f'Candidates - x:{candidates[0]}, y:{candidates[1]}, z:{candidates[2]}')\n",
    "\n",
    "            cand_vectors = [unit_vector(np.subtract(candidate, curr_start)) for candidate in candidates]\n",
    "\n",
    "            angles = [angle_between(cand_vec, move_vector) for cand_vec in cand_vectors]\n",
    "            #print(f'Angles - x:{angles[0]}, y:{angles[1]}, z:{angles[2]}')\n",
    "\n",
    "            min_angle_arg = np.argmin(angles)\n",
    "            valid = check_validity(self.room, candidates[min_angle_arg])\n",
    "\n",
    "            if valid:  # if movement is valid \n",
    "                curr_pos = candidates[min_angle_arg]\n",
    "                #print(f'Moving to {curr_pos}')\n",
    "                curr_len += 1\n",
    "\n",
    "            else:  # if movement is not valid and ball must bounce\n",
    "                distance = get_distance(end, np.array(curr_start), np.array(curr_pos))\n",
    "                if distance < min_dist:\n",
    "                    min_dist = distance\n",
    "\n",
    "                directions[min_angle_arg] *= -1\n",
    "                move_vector[min_angle_arg] *= -1\n",
    "                curr_start = curr_pos\n",
    "                path.append(curr_start)\n",
    "\n",
    "        #print(f'Ending movement in {curr_pos}')\n",
    "        if path_output:\n",
    "            path.append(curr_pos)\n",
    "            return min_dist, path\n",
    "        else:\n",
    "            return min_dist\n",
    "\n",
    "    def init_population(self)->list:\n",
    "        population = np.random.random((self.population_size,2))\n",
    "        # Next we do because we do not want that the range endpoints are included\n",
    "        population[:,0] = population[:,0]*(self.xz_range/2)\n",
    "        population[:,1] = population[:,1]*(self.yz_range/2)\n",
    "        population[:,0] = population[:,0]*np.random.choice([-1,1],self.population_size)\n",
    "        population[:,1] = population[:,1]*np.random.choice([-1,1],self.population_size)\n",
    "        population_valuation = np.array([self.fitness(chromosome) for chromosome in population])\n",
    "        return population_valuation, population\n",
    "\n",
    "    def mutation(self,chromosome:np.array, nr_genes:int=6)->tuple:\n",
    "        # https://en.wikipedia.org/wiki/Mutation_(genetic_algorithm)\n",
    "        xz_dif = np.random.normal(0,self.xz_range/nr_genes)\n",
    "        yz_dif = np.random.normal(0,self.yz_range/nr_genes)\n",
    "\n",
    "        mutant = np.array([chromosome[0]+xz_dif,chromosome[1]+yz_dif])\n",
    "\n",
    "        if abs(mutant[0])>self.xz_range/2:\n",
    "            mutant[0] = (self.xz_range - abs(mutant[0])) *(1 if mutant[0]<0 else -1)\n",
    "        if abs(mutant[1])>self.yz_range/2:\n",
    "            mutant[1] = (self.xz_range - abs(mutant[1])) *(1 if mutant[1]<0 else -1)\n",
    "\n",
    "        return self.fitness(mutant),mutant\n",
    "\n",
    "    def crossover(self,parents:np.array)->list:\n",
    "        parent1,parent2 = parents\n",
    "\n",
    "        child1_val,child1 = self.mutation([parent1[0],parent2[1]])\n",
    "        child2_val,child2 = self.mutation([parent2[0],parent1[1]])\n",
    "\n",
    "        return [child1_val,child2_val],[child1,child2]\n",
    "\n",
    "    def generate_pairs(self,parents:tuple,size:int)-> list:\n",
    "        parent_valuations,parent_individuals = parents\n",
    "        valuations = 1/parent_valuations # Make smaller values bigger and bigger values smaller\n",
    "        parents_probabilites = valuations / valuations.sum()\n",
    "        chosen_parents_i = np.random.choice(range(len(parents_probabilites)),size*2,p=parents_probabilites)# ,replace=False\n",
    "        chosen_parents = parent_individuals[chosen_parents_i]\n",
    "        pairs = np.array(list(zip(chosen_parents[::2],chosen_parents[1::2])))\n",
    "        return pairs\n",
    "  \n",
    "    def generate_offspring(self)->tuple:\n",
    "        parents = self.generate_pairs(self.population,self.population_size//4)\n",
    "        children_val= []\n",
    "        children= []\n",
    "        for pair in parents:\n",
    "            children_val_i, children_i=self.crossover(pair)\n",
    "            children_val+=children_val_i\n",
    "            children+=children_i\n",
    "\n",
    "        return children_val,children_i\n",
    "\n",
    "    def choose_new_generation(self, population:tuple)->tuple:\n",
    "        valuations = 1/population[0]# Make smaller values bigger and bigger values smaller\n",
    "        chromo_probabilites = valuations / valuations.sum()\n",
    "        chosen_chromos_i = np.random.choice(range(len(chromo_probabilites)),self.population_size,p=chromo_probabilites,replace=False)\n",
    "        new_population = (population[0][chosen_chromos_i],population[1][chosen_chromos_i])\n",
    "        return new_population\n",
    "\n",
    "    \n",
    "    def step(self)->list:\n",
    "        children = []\n",
    "\n",
    "        # Generate new offspring\n",
    "        children = self.generate_offspring()\n",
    "        new_population_val = np.concatenate([self.population[0],children[0]])\n",
    "        new_population_ins = np.concatenate([self.population[1],children[1]])\n",
    "        new_population = (new_population_val,new_population_ins)\n",
    "\n",
    "        # Let the natural selection to do its job\n",
    "        self.population = self.choose_new_generation(new_population)\n",
    "\n",
    "        return self.population\n",
    "\n",
    "    def step_until(self,max_iters:int=1000, max_non_increasing_iters:int=100, max_time_s:int=10):\n",
    "        iters = 0\n",
    "        non_increasing_iters = 0\n",
    "        best_val = float('inf')\n",
    "        progress_vals = []\n",
    "        progress_ins = []\n",
    "        start_time = time.perf_counter()\n",
    "\n",
    "        while True:\n",
    "            # Check for reasons to stop evolution\n",
    "            if iters == max_iters:\n",
    "                print('Stopped because maximum iterations achieved.')\n",
    "                break\n",
    "            if non_increasing_iters == max_non_increasing_iters:\n",
    "                print('Stopped because maximum non increasing iterations achieved.')\n",
    "                break\n",
    "            if time.perf_counter() - start_time >= max_time_s:\n",
    "                print('Stopped because maximum time limit achieved.')\n",
    "                break\n",
    "\n",
    "            # Produce the next generation\n",
    "            generation_i_vals,generation_i_ins = self.step()\n",
    "\n",
    "            # Find the best individual\n",
    "            best_i_idx = generation_i_vals.argmin()\n",
    "            best_i_val = generation_i_vals[best_i_idx]\n",
    "            best_i_in = generation_i_ins[best_i_idx]\n",
    "            progress_vals.append(best_i_val)\n",
    "            progress_ins.append(best_i_in)\n",
    "\n",
    "            # Increase counters\n",
    "            iters +=1\n",
    "            non_increasing_iters +=1\n",
    "\n",
    "            # Check if there is an improvement\n",
    "            if best_i_val < best_val:\n",
    "                best_val=best_i_val\n",
    "                non_increasing_iters = 0\n",
    "\n",
    "        return np.array(progress_vals),np.array(progress_ins)\n",
    "      \n",
    "        \n",
    "matrix = np.zeros((11, 11, 11), int)\n",
    "\n",
    "# 0 - Empty cube\n",
    "# 1 - Start cube\n",
    "# 2 - End cube\n",
    "# 3 - Obstacle\n",
    "\n",
    "matrix[0][5][5] = 1\n",
    "matrix[10][5][5] = 2\n",
    "matrix[5][4:6] = 3\n",
    "\n",
    "obj = Evolution(5, room=matrix)\n",
    "print(f'Population size: {obj.population_size}')\n",
    "print(f'Population:\\n{obj.population}')\n",
    "print()\n",
    "print(obj.mutation([0,0]))\n",
    "print()\n",
    "print(obj.crossover([[-45,45],[0,-30]]))\n",
    "print()\n",
    "print(obj.generate_pairs(\n",
    "    (np.array([10,    25,     23,      15,      100]), \n",
    "     np.array([[-4,5],[12,23],[-15,25],[75,-55],[-36,23]])\n",
    "    ), 3)\n",
    "     )\n",
    "\n",
    "print()\n",
    "print(obj.generate_offspring())\n",
    "print()\n",
    "obj.step()\n",
    "print()\n",
    "obj.step_until()\n",
    "1"
   ]
  },
  {
   "cell_type": "code",
   "execution_count": null,
   "metadata": {
    "id": "7b9GaF4213BC"
   },
   "outputs": [],
   "source": []
  }
 ],
 "metadata": {
  "colab": {
   "authorship_tag": "ABX9TyMsSnzGQq3z92zGc7oHPZnD",
   "include_colab_link": true,
   "provenance": []
  },
  "kernelspec": {
   "display_name": "Python 3 (ipykernel)",
   "language": "python",
   "name": "python3"
  },
  "language_info": {
   "codemirror_mode": {
    "name": "ipython",
    "version": 3
   },
   "file_extension": ".py",
   "mimetype": "text/x-python",
   "name": "python",
   "nbconvert_exporter": "python",
   "pygments_lexer": "ipython3",
   "version": "3.8.15"
  }
 },
 "nbformat": 4,
 "nbformat_minor": 1
}
