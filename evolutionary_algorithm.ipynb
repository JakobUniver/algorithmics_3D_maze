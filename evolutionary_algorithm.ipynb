{
  "nbformat": 4,
  "nbformat_minor": 0,
  "metadata": {
    "colab": {
      "provenance": [],
      "authorship_tag": "ABX9TyOwk4eG+wbsV1S6Xl5bKe/k",
      "include_colab_link": true
    },
    "kernelspec": {
      "name": "python3",
      "display_name": "Python 3"
    },
    "language_info": {
      "name": "python"
    }
  },
  "cells": [
    {
      "cell_type": "markdown",
      "metadata": {
        "id": "view-in-github",
        "colab_type": "text"
      },
      "source": [
        "<a href=\"https://colab.research.google.com/github/JakobUniver/algorithmics_3D_maze/blob/main/evolutionary_algorithm.ipynb\" target=\"_parent\"><img src=\"https://colab.research.google.com/assets/colab-badge.svg\" alt=\"Open In Colab\"/></a>"
      ]
    },
    {
      "cell_type": "markdown",
      "source": [
        "# Genetic algorithm\n",
        "This algorithm goal is to find the best direction to thow a ball to hit the target."
      ],
      "metadata": {
        "id": "TPZqJ3_XGNrK"
      }
    },
    {
      "cell_type": "code",
      "execution_count": null,
      "metadata": {
        "id": "R44BsxnOGLPe"
      },
      "outputs": [],
      "source": [
        "# imports"
      ]
    },
    {
      "cell_type": "code",
      "source": [
        "\n",
        "\n",
        "class Direction:\n",
        "  xz_angle: float\n",
        "  yz_angle: float\n",
        "\n",
        "\n",
        "class Evolution:\n",
        "  population: list = []\n",
        "  def __init__(self):\n",
        "    ...\n",
        "  def mutation(instance: Direction)->list: \n",
        "    ...\n",
        "  def crossover(instance: Direction,instance: Direction,instance: Direction)->list:\n",
        "    ...\n",
        "  def fitness(instance: Direction)->float:\n",
        "    ...\n",
        "  def new_generation(population)->list\n",
        "    ...\n",
        "  def generate_pairs(parents)-> list:\n",
        "    ...\n",
        "  def step(self)->list:\n",
        "    children = []\n",
        "    \n",
        "    # Generate new offspring\n",
        "    parents = generate_pairs(self.population)\n",
        "    for i in range(len(parents)):\n",
        "      parent1, parent2 = parents.pop()\n",
        "      i_children=crossover(parent1, parent2)\n",
        "\n",
        "      # Mutate children\n",
        "      for i in range(len(i_children)):\n",
        "        i_children[i] = self.mutation(i_children[i])\n",
        "      children += i_children\n",
        "\n",
        "    # Combine new offspring with previous population\n",
        "    self.population += children\n",
        "\n",
        "    # Reduce the size of the population\n",
        "    self.population = new_generation(self.population)\n",
        "\n",
        "    \n",
        "    \n",
        "    \n",
        "\n",
        "    \n",
        "    \n"
      ],
      "metadata": {
        "id": "JVzvHJlqKfCy"
      },
      "execution_count": null,
      "outputs": []
    }
  ]
}